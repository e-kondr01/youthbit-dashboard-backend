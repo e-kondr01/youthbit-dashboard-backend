{
 "cells": [
  {
   "cell_type": "code",
   "execution_count": 4,
   "metadata": {},
   "outputs": [],
   "source": [
    "import pandas as pd"
   ]
  },
  {
   "cell_type": "code",
   "execution_count": 5,
   "metadata": {},
   "outputs": [],
   "source": [
    "from pathlib import Path"
   ]
  },
  {
   "cell_type": "code",
   "execution_count": 6,
   "metadata": {},
   "outputs": [
    {
     "data": {
      "text/html": [
       "<div>\n",
       "<style scoped>\n",
       "    .dataframe tbody tr th:only-of-type {\n",
       "        vertical-align: middle;\n",
       "    }\n",
       "\n",
       "    .dataframe tbody tr th {\n",
       "        vertical-align: top;\n",
       "    }\n",
       "\n",
       "    .dataframe thead th {\n",
       "        text-align: right;\n",
       "    }\n",
       "</style>\n",
       "<table border=\"1\" class=\"dataframe\">\n",
       "  <thead>\n",
       "    <tr style=\"text-align: right;\">\n",
       "      <th></th>\n",
       "      <th>Регион</th>\n",
       "      <th>Округ</th>\n",
       "      <th>Год</th>\n",
       "      <th>Показатель</th>\n",
       "      <th>№ строки</th>\n",
       "      <th>Единица измерения</th>\n",
       "      <th>Значение</th>\n",
       "    </tr>\n",
       "  </thead>\n",
       "  <tbody>\n",
       "    <tr>\n",
       "      <th>0</th>\n",
       "      <td>Республика Адыгея</td>\n",
       "      <td>ЮФО</td>\n",
       "      <td>2021</td>\n",
       "      <td>Общее количество региональных ресурсных центро...</td>\n",
       "      <td>60.0</td>\n",
       "      <td>ед</td>\n",
       "      <td>1.0</td>\n",
       "    </tr>\n",
       "    <tr>\n",
       "      <th>1</th>\n",
       "      <td>Республика Адыгея</td>\n",
       "      <td>ЮФО</td>\n",
       "      <td>2021</td>\n",
       "      <td>Количество государственных учреждений на терри...</td>\n",
       "      <td>61.0</td>\n",
       "      <td>ед</td>\n",
       "      <td>192.0</td>\n",
       "    </tr>\n",
       "    <tr>\n",
       "      <th>2</th>\n",
       "      <td>Республика Адыгея</td>\n",
       "      <td>ЮФО</td>\n",
       "      <td>2021</td>\n",
       "      <td>образование</td>\n",
       "      <td>62.0</td>\n",
       "      <td>ед</td>\n",
       "      <td>150.0</td>\n",
       "    </tr>\n",
       "    <tr>\n",
       "      <th>3</th>\n",
       "      <td>Республика Адыгея</td>\n",
       "      <td>ЮФО</td>\n",
       "      <td>2021</td>\n",
       "      <td>здравохранение</td>\n",
       "      <td>63.0</td>\n",
       "      <td>ед</td>\n",
       "      <td>13.0</td>\n",
       "    </tr>\n",
       "    <tr>\n",
       "      <th>4</th>\n",
       "      <td>Республика Адыгея</td>\n",
       "      <td>ЮФО</td>\n",
       "      <td>2021</td>\n",
       "      <td>социальная защита и социальное обслуживание</td>\n",
       "      <td>64.0</td>\n",
       "      <td>ед</td>\n",
       "      <td>9.0</td>\n",
       "    </tr>\n",
       "  </tbody>\n",
       "</table>\n",
       "</div>"
      ],
      "text/plain": [
       "              Регион Округ   Год  \\\n",
       "0  Республика Адыгея   ЮФО  2021   \n",
       "1  Республика Адыгея   ЮФО  2021   \n",
       "2  Республика Адыгея   ЮФО  2021   \n",
       "3  Республика Адыгея   ЮФО  2021   \n",
       "4  Республика Адыгея   ЮФО  2021   \n",
       "\n",
       "                                          Показатель  № строки  \\\n",
       "0  Общее количество региональных ресурсных центро...      60.0   \n",
       "1  Количество государственных учреждений на терри...      61.0   \n",
       "2                                        образование      62.0   \n",
       "3                                     здравохранение      63.0   \n",
       "4        социальная защита и социальное обслуживание      64.0   \n",
       "\n",
       "  Единица измерения  Значение  \n",
       "0                ед       1.0  \n",
       "1                ед     192.0  \n",
       "2                ед     150.0  \n",
       "3                ед      13.0  \n",
       "4                ед       9.0  "
      ]
     },
     "execution_count": 6,
     "metadata": {},
     "output_type": "execute_result"
    }
   ],
   "source": [
    "file_path = Path(\"sources\") / \"Форма М1 2021.xlsx\"\n",
    "df = pd.read_excel(file_path, sheet_name=\"Р7\")\n",
    "df.head()"
   ]
  },
  {
   "cell_type": "code",
   "execution_count": 20,
   "metadata": {},
   "outputs": [],
   "source": [
    "for i in df.index:\n",
    "    if pd.isna(df.at[i, \"Показатель\"]):\n",
    "        continue\n",
    "    if not isinstance(df.at[i, \"Показатель\"], str):\n",
    "        print(i)\n",
    "        print(df.at[i, \"Показатель\"])\n",
    "    # if df.at[i, \"Показатель\"].startswith(\" \"):\n",
    "    #     continue\n",
    "    # region = df.at[i, \"Регион\"]\n",
    "    # feature = df.at[i, \"Показатель\"].rstrip(\":\")\n",
    "    # measure_unit = df.at[i, \"Единица измерения\"]\n",
    "    # value = df.at[i, \"Значение\"]\n",
    "\n",
    "    # print(i, region, feature, measure_unit, value)\n",
    "    "
   ]
  }
 ],
 "metadata": {
  "kernelspec": {
   "display_name": ".venv",
   "language": "python",
   "name": "python3"
  },
  "language_info": {
   "codemirror_mode": {
    "name": "ipython",
    "version": 3
   },
   "file_extension": ".py",
   "mimetype": "text/x-python",
   "name": "python",
   "nbconvert_exporter": "python",
   "pygments_lexer": "ipython3",
   "version": "3.11.2"
  },
  "orig_nbformat": 4,
  "vscode": {
   "interpreter": {
    "hash": "58278a3be25a0d54c99c0b314c82502bbe82ec25bdd1b7390b0bc9a7d0124cb6"
   }
  }
 },
 "nbformat": 4,
 "nbformat_minor": 2
}
